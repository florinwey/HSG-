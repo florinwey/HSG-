{
  "metadata": {
    "kernelspec": {
      "name": "python",
      "display_name": "Python (Pyodide)",
      "language": "python"
    },
    "language_info": {
      "codemirror_mode": {
        "name": "python",
        "version": 3
      },
      "file_extension": ".py",
      "mimetype": "text/x-python",
      "name": "python",
      "nbconvert_exporter": "python",
      "pygments_lexer": "ipython3",
      "version": "3.8"
    }
  },
  "nbformat_minor": 4,
  "nbformat": 4,
  "cells": [
    {
      "cell_type": "code",
      "source": "#####\n#Imports\n#####\n\nimport random\nimport time\nimport matplotlib.pyplot as plt\nimport numpy as np",
      "metadata": {
        "trusted": true
      },
      "outputs": [],
      "execution_count": null
    },
    {
      "cell_type": "code",
      "source": "#####\n#Main function\n#####\n\n#the main function \ndef main():\n    #create list for runtimes and dimensions\n    runtime_list = []\n    dimension_list = []\n\n    np_runtime_list = []\n    \n    #create two random matrices for multiplication\n    for n in range(100, 401, 100):\n        matrix_1, dimension = create_matrix(n)\n        matrix_2, dimension = create_matrix(n)\n\n        #find numpy runtime\n        np_start_time = time.time()\n        np.matmul(matrix_1, matrix_2)\n        np_end_time = time.time()\n        np_runtime = (np_end_time - np_start_time)\n        np_runtime_list.append(np_runtime)\n\n        runtime = matrix_multiplication(matrix_1, matrix_2, dimension)\n\n        runtime_list.append(runtime)\n        dimension_list.append(n)\n\n    #plot graph of my matrix multiplication    \n    plt.plot(dimension_list, runtime_list)\n    plt.xlabel(\"dimensions\")\n    plt.ylabel(\"runtime\")\n    plt.title(\"Graph Matrix Computation\")\n    plt.show()\n\n    #plot graph of matrix multiplication with numpy\n    plt.plot(dimension_list, np_runtime_list)\n    plt.xlabel(\"dimensions\")\n    plt.ylabel(\"runtime\")\n    plt.title(\"Graph Matrix Computation with numpy\")\n    plt.show()\n\n    matrix_3, dimension = create_matrix(2)\n    matrix_4, dimension = create_matrix(2)\n    c = strassens_algorithm(matrix_3, matrix_4, dimension)\n\n    \n    c, stras_runtime = recursive_strassens_algorithm(matrix_3, matrix_4, dimension):\n    \n    #find runtime with recursive strassens algorithm\n    np_start_time = time.time()\n    np.matmul(matrix_1, matrix_2)\n    np_end_time = time.time()\n    np_runtime = (np_end_time - np_start_time)\n    np_runtime_list.append(np_runtime)\n\n    #plot graph of matrix multiplication with strassens algo\n    plt.plot(dimension_list, stras_runtime)\n    plt.xlabel(\"dimensions\")\n    plt.ylabel(\"runtime\")\n    plt.title(\"Graph Matrix Computation with Strassens algo\")\n    plt.show()\n\n\nmain()",
      "metadata": {
        "trusted": true
      },
      "outputs": [],
      "execution_count": null
    },
    {
      "cell_type": "code",
      "source": "#####\n#Create and multiply matrices\n#####\n\n\ndef create_matrix(dimension):\n\n    new_matrix = []\n\n    #create a new matrix for each step\n    for i in range(dimension):\n        row = []\n        for j in range(dimension):\n            row.append(random.randint(0, 9)) #add a random number between 0 and 9 for each entry in the matrix\n        new_matrix.append(row)\n\n    return new_matrix, dimension\n\n\ndef matrix_multiplication(matrix_1, matrix_2, dimension):\n\n    start_time = time.time()\n    \n    final_matrix = []\n\n    #create a new matrix for each step\n    for _ in range(dimension):\n        row = [0] * dimension\n        final_matrix.append(row)\n\n    #add every value in the correct place after multiplication\n    for x in range(dimension):\n        for y in range(dimension):\n                for z in range(dimension):\n                    final_matrix[x][y] += matrix_1[x][z] * matrix_2[z][y]\n\n    end_time = time.time()\n    runtime = end_time - start_time\n    \n    return runtime\n\n",
      "metadata": {
        "trusted": true
      },
      "outputs": [],
      "execution_count": null
    },
    {
      "cell_type": "code",
      "source": "#Task d)\n# My code is less efficient because the loops are not optimized. Numpy has an algorithm that uses nested loops.\n",
      "metadata": {
        "trusted": true
      },
      "outputs": [],
      "execution_count": null
    },
    {
      "cell_type": "code",
      "source": "#####\n#Strassens algorithm non recursive for 2x2 matrices\n#####\n\ndef strassens_algorithm(matrix_3, matrix_4, dimension):\n\n    #define input matrices\n    a = matrix_3\n    b = matrix_4\n    c = []\n\n    #strassens algorithmus non recursive\n    M1 = (a[0][0] + a[1][1]) * (b[0][0] + b[1][1])\n    M2 = (a[1][0] + a[1][1]) * (b[0][0])\n    M3 = (a[0][0]) * (b[0][1] - b[1][1])\n    M4 = (a[1][1]) * (b[1][0] -  b[0][0])\n    M5 = (a[0][0] + a[0][1]) * (b[1][1])\n    M6 = (a[1][0] - a[0][0]) * (b[0][0] + b[0][1])\n    M7 = (a[0][1] - a[1][1]) * (b[1][0] + b [1][1])\n\n    #append every result into an output matrix\n    c.append([M1 + M4 - M5 + M7, M3 + M5])\n    c.append([M2 + M4, M1 - M2 + M3 + M6])\n    \n    return c",
      "metadata": {
        "trusted": true
      },
      "outputs": [],
      "execution_count": null
    },
    {
      "cell_type": "code",
      "source": "#####\n#Strassens algorithm recursive ### if the code doesn't run, try without this cell\n#####\n\n#prepare a function that adds two 1x1 matrices\ndef matrix_addition(matrix_add_1, matrix_add_2):\n    a = matrix_add_1\n    b = matrix_add_2\n    c = (a[0][0] + b[0][0])\n    return c\n\n#prepare a function that subtracts two 1x1 matrices\ndef matrix_subtraction(matrix_sub_1, matrix_sub_2):\n    a = matrix_sub_1\n    b = matrix_sub_2\n    c = (a[0][0] + b[0][0])\n    return c\n\n#Strassens algorithm recursive\ndef recursive_strassens_algorithm(matrix_3, matrix_4, dimension):\n\n    start_time = time.time()\n    \n    a = matrix_3\n    b = matrix_4\n\n    #strassens algorithm recursive\n    M1 = recursive_strassens_algorithm(matrix_addition(a[0][0], a[1][1]),matrix_addition(b[0][0], b[1][1])\n    M2 = recursive_strassens_algorithm(matrix_addition(a[1][0], a[1][1]), (b[0][0]))\n    M3 = recursive_strassens_algorithm((a[0][0]), matrix_subtraction(b[0][1], b[1][1]))\n    M4 = recursive_strassens_algorithm((a[1][1]), matrix_subtraction(b[1][0], b[0][0]))\n    M5 = recursive_strassens_algorithm(matrix_addition(a[0][0], a[0][1]), (b[1][1]))\n    M6 = recursive_strassens_algorithm(matrix_subtraction(a[1][0], a[0][0]), matrix_addition(b[0][0], b[0][1]))\n    M7 = recursive_strassens_algorithm(matrix_subtraction(a[0][1], a[1][1]), matrix_addition(b[1][0], b [1][1]))\n\n    #append every result into an output matrix\n    c.append([M1 + M4 - M5 + M7, M3 + M5])\n    c.append([M2 + M4, M1 - M2 + M3 + M6])\n\n    end_time = time.time()\n    stras_runtime = end_time - start_time\n    \n    return c, stras_runtime",
      "metadata": {
        "trusted": true
      },
      "outputs": [],
      "execution_count": null
    }
  ]
}